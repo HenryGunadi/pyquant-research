{
 "cells": [
  {
   "cell_type": "markdown",
   "id": "75b0f1f6",
   "metadata": {},
   "source": [
    "#### Import Dependencies"
   ]
  },
  {
   "cell_type": "code",
   "execution_count": null,
   "id": "5a34efde",
   "metadata": {},
   "outputs": [],
   "source": [
    "import pandas as pd\n",
    "import matplotlib.pyplot as plt\n",
    "import numpy as np\n",
    "import yfinance as yf\n",
    "import math"
   ]
  },
  {
   "attachments": {
    "image-2.png": {
     "image/png": "[encoded data removed]"
    },
    "image.png": {
     "image/png": "[encoded data removed]"
    }
   },
   "cell_type": "markdown",
   "id": "dc94d3b5",
   "metadata": {},
   "source": [
    "#### Calculating RSI\n",
    "The RSI uses a two-part calculation that starts with the following formula.\n",
    "\n",
    "The average gain or loss used in this calculation is the average percentage gain or loss during a look-back period. The formula uses a positive value for the average loss. Periods with price losses are counted as zero in the calculations of average gain. Periods with price increases are counted as zero in the calculations of average loss.\n",
    "\n",
    "The standard number of periods used to calculate the initial RSI value is 14.\n",
    "\n",
    "![image.png](attachment:image.png)\n",
    "\n",
    "Once there are 14 periods of data available, the second calculation can be done. Its purpose is to smooth the results so that the RSI only nears 100 or zero in a strongly trending market\n",
    "\n",
    "![image-2.png](attachment:image-2.png)"
   ]
  },
  {
   "cell_type": "markdown",
   "id": "273c7f3b",
   "metadata": {},
   "source": [
    "#### Formula"
   ]
  },
  {
   "cell_type": "code",
   "execution_count": null,
   "id": "7b16b260",
   "metadata": {},
   "outputs": [],
   "source": [
    "def RSI(prev_avg_gain, prev_avg_loss, current_gain, current_loss, interval):\n",
    "    prev_avg_gain = (prev_avg_gain * (interval - 1) + current_gain) / interval\n",
    "    prev_avg_loss = (prev_avg_loss * (interval - 1) + current_loss) / interval\n",
    "\n",
    "    if prev_avg_loss == 0:\n",
    "        rsi = 100\n",
    "    else:\n",
    "        rs = prev_avg_gain / prev_avg_loss\n",
    "        rsi = 100 - (100 / (1 + rs))\n",
    "\n",
    "    return {\n",
    "        \"rsi\": rsi,\n",
    "        \"prev_avg_gain\": prev_avg_gain,\n",
    "        \"prev_avg_loss\": prev_avg_loss\n",
    "    }\n",
    "\n",
    "# intervals are in days|\n",
    "def avg_gain_or_loss(data: pd.DataFrame, interval: int, loss: bool):\n",
    "    latest_14_days = data.iloc[1:interval + 1].copy()  # FIX: use rows 1 to 14\n",
    "    latest_14_days[\"change\"] = latest_14_days[\"Close\"].values - data[\"Close\"].values[0:interval]\n",
    "\n",
    "    if loss:\n",
    "        total_loss = latest_14_days[\"change\"].apply(lambda x: -x if x < 0 else 0).sum()\n",
    "        avg_loss = total_loss / interval\n",
    "        return avg_loss\n",
    "    else:\n",
    "        total_gain = latest_14_days[\"change\"].apply(lambda x: x if x > 0 else 0).sum()\n",
    "        avg_gain = total_gain / interval\n",
    "        return avg_gain"
   ]
  },
  {
   "cell_type": "markdown",
   "id": "675ddf16",
   "metadata": {},
   "source": [
    "#### Get Data Series"
   ]
  },
  {
   "cell_type": "code",
   "execution_count": null,
   "id": "d89b810c",
   "metadata": {},
   "outputs": [],
   "source": [
    "# get spy etf data\n",
    "appl = yf.Ticker(\"AAPL\")\n",
    "appl = appl.history(auto_adjust=False)\n",
    "appl = appl.sort_index(ascending=True)\n",
    "appl"
   ]
  },
  {
   "cell_type": "code",
   "execution_count": null,
   "id": "3f1af901",
   "metadata": {},
   "outputs": [],
   "source": [
    "import ta\n",
    "import ta.momentum\n",
    "\n",
    "# Access the Close price using the MultiIndex\n",
    "\n",
    "# Calculate RSI using TA-Lib with the proper array\n",
    "rsi_ta = ta.momentum.RSIIndicator(close=appl[\"Close\"], window=14)\n",
    "rsi_ta.rsi()"
   ]
  },
  {
   "cell_type": "markdown",
   "id": "7bc7c52a",
   "metadata": {},
   "source": [
    "#### RSI"
   ]
  },
  {
   "cell_type": "code",
   "execution_count": null,
   "id": "0a1aaf6f",
   "metadata": {},
   "outputs": [],
   "source": [
    "interval = 14\n",
    "rsi_values = []\n",
    "avg_14_gain = avg_gain_or_loss(data=appl,\n",
    "                                interval=14,\n",
    "                                loss=False,\n",
    "                                )\n",
    "\n",
    "avg_14_loss = avg_gain_or_loss(data=appl,\n",
    "                                interval=14,\n",
    "                                loss=True,\n",
    "                                )\n",
    "\n",
    "for i in range(interval - 1, len(appl)):\n",
    "    current_change = appl[\"Close\"].iloc[i] - appl[\"Close\"].iloc[i - 1]\n",
    "    current_gain = current_change if current_change > 0 else 0\n",
    "    current_loss = -current_change if current_change < 0 else 0  # FIX: loss must be positive\n",
    "    \n",
    "    values = RSI(prev_avg_gain=avg_14_gain,\n",
    "                    prev_avg_loss=avg_14_loss,\n",
    "                    current_gain=current_gain,\n",
    "                    current_loss=current_loss,\n",
    "                    interval=14)\n",
    "    \n",
    "    avg_14_gain = values[\"prev_avg_gain\"]\n",
    "    avg_14_loss = values[\"prev_avg_loss\"]\n",
    "    \n",
    "    rsi_values.append(values[\"rsi\"])\n",
    "\n",
    "rsi_values"
   ]
  },
  {
   "cell_type": "markdown",
   "id": "3d56e31e",
   "metadata": {},
   "source": [
    "#### Plotting RSI"
   ]
  },
  {
   "cell_type": "code",
   "execution_count": null,
   "id": "c2b6ed8e",
   "metadata": {},
   "outputs": [],
   "source": [
    "from typing import List\n",
    "\n",
    "def plot_RSI(data: pd.DataFrame, rsi_values):\n",
    "    date_labels = data.index.strftime(\"%Y-%m-%d\").tolist()\n",
    "\n",
    "    plt.figure(figsize=(10, 8))\n",
    "    plt.plot(range(len(rsi_values)), rsi_values, label=\"RSI\")\n",
    "\n",
    "    plt.xticks(ticks=range(len(rsi_values)), labels=date_labels[-len(rsi_values):], rotation=45)\n",
    "    plt.ylim(0, 100)\n",
    "    plt.yticks(range(0, 101, 10))\n",
    "\n",
    "    plt.title(\"RSI Indicator\")\n",
    "    plt.xlabel(\"Date\")\n",
    "    plt.ylabel(\"RSI Value\")\n",
    "    plt.legend()\n",
    "    plt.tight_layout()\n",
    "    plt.show()"
   ]
  },
  {
   "cell_type": "code",
   "execution_count": null,
   "id": "bf86ea48",
   "metadata": {},
   "outputs": [],
   "source": [
    "plot_RSI(data=appl,\n",
    "         rsi_values=rsi_values)"
   ]
  },
  {
   "cell_type": "code",
   "execution_count": null,
   "id": "02b67fb3",
   "metadata": {},
   "outputs": [],
   "source": []
  },
  {
   "cell_type": "code",
   "execution_count": null,
   "id": "2215e383",
   "metadata": {},
   "outputs": [],
   "source": []
  }
 ],
 "metadata": {
  "kernelspec": {
   "display_name": "venv",
   "language": "python",
   "name": "python3"
  },
  "language_info": {
   "codemirror_mode": {
    "name": "ipython",
    "version": 3
   },
   "file_extension": ".py",
   "mimetype": "text/x-python",
   "name": "python",
   "nbconvert_exporter": "python",
   "pygments_lexer": "ipython3",
   "version": "3.11.7"
  }
 },
 "nbformat": 4,
 "nbformat_minor": 5
}
