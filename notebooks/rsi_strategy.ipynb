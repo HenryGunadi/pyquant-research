{
 "cells": [
  {
   "cell_type": "markdown",
   "id": "75b0f1f6",
   "metadata": {},
   "source": [
    "#### Import Dependencies"
   ]
  },
  {
   "cell_type": "code",
   "execution_count": 1,
   "id": "5a34efde",
   "metadata": {},
   "outputs": [],
   "source": [
    "import pandas as pd\n",
    "import matplotlib.pyplot as plt\n",
    "import numpy as np\n",
    "import yfinance as yf\n",
    "import math\n",
    "import os\n",
    "import sys"
   ]
  },
  {
   "cell_type": "code",
   "execution_count": 2,
   "id": "a5096850",
   "metadata": {},
   "outputs": [
    {
     "name": "stdout",
     "output_type": "stream",
     "text": [
      "c:\\Coding\\quant\\pyquant-research\n",
      "Nb dir is not in system path\n"
     ]
    }
   ],
   "source": [
    "# get the updated custom functions automatically\n",
    "%load_ext autoreload\n",
    "%autoreload 2\n",
    "\n",
    "nb_dir = os.path.split(os.getcwd())[0]\n",
    "nb_dir\n",
    "print(nb_dir)\n",
    "\n",
    "if nb_dir not in sys.path:\n",
    "    print(\"Nb dir is not in system path\")\n",
    "    sys.path.append(nb_dir)\n",
    "else:\n",
    "    print(\"Nb dir is already in system path\")"
   ]
  },
  {
   "attachments": {
    "image-2.png": {
     "image/png": "[encoded data removed]"
    },
    "image.png": {
     "image/png": "[encoded data removed]"
    }
   },
   "cell_type": "markdown",
   "id": "dc94d3b5",
   "metadata": {},
   "source": [
    "#### Formula\n",
    "The RSI uses a two-part calculation that starts with the following formula.\n",
    "\n",
    "The average gain or loss used in this calculation is the average percentage gain or loss during a look-back period. The formula uses a positive value for the average loss. Periods with price losses are counted as zero in the calculations of average gain. Periods with price increases are counted as zero in the calculations of average loss.\n",
    "\n",
    "The standard number of periods used to calculate the initial RSI value is 14.\n",
    "\n",
    "![image.png](attachment:image.png)\n",
    "\n",
    "Once there are 14 periods of data available, the second calculation can be done. Its purpose is to smooth the results so that the RSI only nears 100 or zero in a strongly trending market\n",
    "\n",
    "![image-2.png](attachment:image-2.png)"
   ]
  },
  {
   "cell_type": "markdown",
   "id": "675ddf16",
   "metadata": {},
   "source": [
    "#### Get Data Series"
   ]
  },
  {
   "cell_type": "code",
   "execution_count": 3,
   "id": "d89b810c",
   "metadata": {},
   "outputs": [
    {
     "data": {
      "text/html": [
       "<div>\n",
       "<style scoped>\n",
       "    .dataframe tbody tr th:only-of-type {\n",
       "        vertical-align: middle;\n",
       "    }\n",
       "\n",
       "    .dataframe tbody tr th {\n",
       "        vertical-align: top;\n",
       "    }\n",
       "\n",
       "    .dataframe thead th {\n",
       "        text-align: right;\n",
       "    }\n",
       "</style>\n",
       "<table border=\"1\" class=\"dataframe\">\n",
       "  <thead>\n",
       "    <tr style=\"text-align: right;\">\n",
       "      <th></th>\n",
       "      <th>Open</th>\n",
       "      <th>High</th>\n",
       "      <th>Low</th>\n",
       "      <th>Close</th>\n",
       "      <th>Adj Close</th>\n",
       "      <th>Volume</th>\n",
       "      <th>Dividends</th>\n",
       "      <th>Stock Splits</th>\n",
       "    </tr>\n",
       "    <tr>\n",
       "      <th>Date</th>\n",
       "      <th></th>\n",
       "      <th></th>\n",
       "      <th></th>\n",
       "      <th></th>\n",
       "      <th></th>\n",
       "      <th></th>\n",
       "      <th></th>\n",
       "      <th></th>\n",
       "    </tr>\n",
       "  </thead>\n",
       "  <tbody>\n",
       "    <tr>\n",
       "      <th>2025-02-28 00:00:00-05:00</th>\n",
       "      <td>236.949997</td>\n",
       "      <td>242.089996</td>\n",
       "      <td>230.199997</td>\n",
       "      <td>241.839996</td>\n",
       "      <td>241.523270</td>\n",
       "      <td>56833400</td>\n",
       "      <td>0.0</td>\n",
       "      <td>0.0</td>\n",
       "    </tr>\n",
       "    <tr>\n",
       "      <th>2025-03-03 00:00:00-05:00</th>\n",
       "      <td>241.789993</td>\n",
       "      <td>244.029999</td>\n",
       "      <td>236.110001</td>\n",
       "      <td>238.029999</td>\n",
       "      <td>237.718262</td>\n",
       "      <td>47184000</td>\n",
       "      <td>0.0</td>\n",
       "      <td>0.0</td>\n",
       "    </tr>\n",
       "    <tr>\n",
       "      <th>2025-03-04 00:00:00-05:00</th>\n",
       "      <td>237.710007</td>\n",
       "      <td>240.070007</td>\n",
       "      <td>234.679993</td>\n",
       "      <td>235.929993</td>\n",
       "      <td>235.621017</td>\n",
       "      <td>53798100</td>\n",
       "      <td>0.0</td>\n",
       "      <td>0.0</td>\n",
       "    </tr>\n",
       "    <tr>\n",
       "      <th>2025-03-05 00:00:00-05:00</th>\n",
       "      <td>235.419998</td>\n",
       "      <td>236.550003</td>\n",
       "      <td>229.229996</td>\n",
       "      <td>235.740005</td>\n",
       "      <td>235.431274</td>\n",
       "      <td>47227600</td>\n",
       "      <td>0.0</td>\n",
       "      <td>0.0</td>\n",
       "    </tr>\n",
       "    <tr>\n",
       "      <th>2025-03-06 00:00:00-05:00</th>\n",
       "      <td>234.440002</td>\n",
       "      <td>237.860001</td>\n",
       "      <td>233.160004</td>\n",
       "      <td>235.330002</td>\n",
       "      <td>235.021805</td>\n",
       "      <td>45170400</td>\n",
       "      <td>0.0</td>\n",
       "      <td>0.0</td>\n",
       "    </tr>\n",
       "    <tr>\n",
       "      <th>...</th>\n",
       "      <td>...</td>\n",
       "      <td>...</td>\n",
       "      <td>...</td>\n",
       "      <td>...</td>\n",
       "      <td>...</td>\n",
       "      <td>...</td>\n",
       "      <td>...</td>\n",
       "      <td>...</td>\n",
       "    </tr>\n",
       "    <tr>\n",
       "      <th>2025-05-21 00:00:00-04:00</th>\n",
       "      <td>205.169998</td>\n",
       "      <td>207.039993</td>\n",
       "      <td>200.710007</td>\n",
       "      <td>202.089996</td>\n",
       "      <td>202.089996</td>\n",
       "      <td>59211800</td>\n",
       "      <td>0.0</td>\n",
       "      <td>0.0</td>\n",
       "    </tr>\n",
       "    <tr>\n",
       "      <th>2025-05-22 00:00:00-04:00</th>\n",
       "      <td>200.710007</td>\n",
       "      <td>202.750000</td>\n",
       "      <td>199.699997</td>\n",
       "      <td>201.360001</td>\n",
       "      <td>201.360001</td>\n",
       "      <td>46742400</td>\n",
       "      <td>0.0</td>\n",
       "      <td>0.0</td>\n",
       "    </tr>\n",
       "    <tr>\n",
       "      <th>2025-05-23 00:00:00-04:00</th>\n",
       "      <td>193.669998</td>\n",
       "      <td>197.699997</td>\n",
       "      <td>193.460007</td>\n",
       "      <td>195.270004</td>\n",
       "      <td>195.270004</td>\n",
       "      <td>78432900</td>\n",
       "      <td>0.0</td>\n",
       "      <td>0.0</td>\n",
       "    </tr>\n",
       "    <tr>\n",
       "      <th>2025-05-27 00:00:00-04:00</th>\n",
       "      <td>198.300003</td>\n",
       "      <td>200.740005</td>\n",
       "      <td>197.429993</td>\n",
       "      <td>200.210007</td>\n",
       "      <td>200.210007</td>\n",
       "      <td>56288500</td>\n",
       "      <td>0.0</td>\n",
       "      <td>0.0</td>\n",
       "    </tr>\n",
       "    <tr>\n",
       "      <th>2025-05-28 00:00:00-04:00</th>\n",
       "      <td>200.589996</td>\n",
       "      <td>202.729996</td>\n",
       "      <td>199.899994</td>\n",
       "      <td>200.419998</td>\n",
       "      <td>200.419998</td>\n",
       "      <td>44158300</td>\n",
       "      <td>0.0</td>\n",
       "      <td>0.0</td>\n",
       "    </tr>\n",
       "  </tbody>\n",
       "</table>\n",
       "<p>62 rows × 8 columns</p>\n",
       "</div>"
      ],
      "text/plain": [
       "                                 Open        High         Low       Close  \\\n",
       "Date                                                                        \n",
       "2025-02-28 00:00:00-05:00  236.949997  242.089996  230.199997  241.839996   \n",
       "2025-03-03 00:00:00-05:00  241.789993  244.029999  236.110001  238.029999   \n",
       "2025-03-04 00:00:00-05:00  237.710007  240.070007  234.679993  235.929993   \n",
       "2025-03-05 00:00:00-05:00  235.419998  236.550003  229.229996  235.740005   \n",
       "2025-03-06 00:00:00-05:00  234.440002  237.860001  233.160004  235.330002   \n",
       "...                               ...         ...         ...         ...   \n",
       "2025-05-21 00:00:00-04:00  205.169998  207.039993  200.710007  202.089996   \n",
       "2025-05-22 00:00:00-04:00  200.710007  202.750000  199.699997  201.360001   \n",
       "2025-05-23 00:00:00-04:00  193.669998  197.699997  193.460007  195.270004   \n",
       "2025-05-27 00:00:00-04:00  198.300003  200.740005  197.429993  200.210007   \n",
       "2025-05-28 00:00:00-04:00  200.589996  202.729996  199.899994  200.419998   \n",
       "\n",
       "                            Adj Close    Volume  Dividends  Stock Splits  \n",
       "Date                                                                      \n",
       "2025-02-28 00:00:00-05:00  241.523270  56833400        0.0           0.0  \n",
       "2025-03-03 00:00:00-05:00  237.718262  47184000        0.0           0.0  \n",
       "2025-03-04 00:00:00-05:00  235.621017  53798100        0.0           0.0  \n",
       "2025-03-05 00:00:00-05:00  235.431274  47227600        0.0           0.0  \n",
       "2025-03-06 00:00:00-05:00  235.021805  45170400        0.0           0.0  \n",
       "...                               ...       ...        ...           ...  \n",
       "2025-05-21 00:00:00-04:00  202.089996  59211800        0.0           0.0  \n",
       "2025-05-22 00:00:00-04:00  201.360001  46742400        0.0           0.0  \n",
       "2025-05-23 00:00:00-04:00  195.270004  78432900        0.0           0.0  \n",
       "2025-05-27 00:00:00-04:00  200.210007  56288500        0.0           0.0  \n",
       "2025-05-28 00:00:00-04:00  200.419998  44158300        0.0           0.0  \n",
       "\n",
       "[62 rows x 8 columns]"
      ]
     },
     "execution_count": 3,
     "metadata": {},
     "output_type": "execute_result"
    }
   ],
   "source": [
    "# get spy etf data\n",
    "SYMBOL = \"AAPL\"\n",
    "\n",
    "data = yf.Ticker(SYMBOL)\n",
    "data = data.history(auto_adjust=False, period=\"3mo\")\n",
    "data = data.sort_index(ascending=True)\n",
    "data"
   ]
  },
  {
   "cell_type": "markdown",
   "id": "7bc7c52a",
   "metadata": {},
   "source": [
    "#### Calculate RSI"
   ]
  },
  {
   "cell_type": "code",
   "execution_count": 4,
   "id": "0a1aaf6f",
   "metadata": {},
   "outputs": [
    {
     "data": {
      "text/plain": [
       "Date\n",
       "2025-02-28 00:00:00-05:00          NaN\n",
       "2025-03-03 00:00:00-05:00          NaN\n",
       "2025-03-04 00:00:00-05:00          NaN\n",
       "2025-03-05 00:00:00-05:00          NaN\n",
       "2025-03-06 00:00:00-05:00          NaN\n",
       "                               ...    \n",
       "2025-05-21 00:00:00-04:00    44.837860\n",
       "2025-05-22 00:00:00-04:00    44.111761\n",
       "2025-05-23 00:00:00-04:00    38.509085\n",
       "2025-05-27 00:00:00-04:00    44.650261\n",
       "2025-05-28 00:00:00-04:00    44.902164\n",
       "Name: Close, Length: 62, dtype: float64"
      ]
     },
     "execution_count": 4,
     "metadata": {},
     "output_type": "execute_result"
    }
   ],
   "source": [
    "from utils.indicators import calculate_rsi_ema\n",
    "\n",
    "rsi_values = calculate_rsi_ema(data)\n",
    "rsi_values"
   ]
  },
  {
   "cell_type": "code",
   "execution_count": 5,
   "id": "17228518",
   "metadata": {},
   "outputs": [
    {
     "data": {
      "text/plain": [
       "Date\n",
       "2025-02-28 00:00:00-05:00          NaN\n",
       "2025-03-03 00:00:00-05:00          NaN\n",
       "2025-03-04 00:00:00-05:00          NaN\n",
       "2025-03-05 00:00:00-05:00          NaN\n",
       "2025-03-06 00:00:00-05:00          NaN\n",
       "                               ...    \n",
       "2025-05-21 00:00:00-04:00    44.837860\n",
       "2025-05-22 00:00:00-04:00    44.111761\n",
       "2025-05-23 00:00:00-04:00    38.509085\n",
       "2025-05-27 00:00:00-04:00    44.650261\n",
       "2025-05-28 00:00:00-04:00    44.902164\n",
       "Name: rsi, Length: 62, dtype: float64"
      ]
     },
     "execution_count": 5,
     "metadata": {},
     "output_type": "execute_result"
    }
   ],
   "source": [
    "import ta\n",
    "\n",
    "# Calculate RSI and store it in a new column\n",
    "rsi_ta = ta.momentum.RSIIndicator(close=data['Close'], window=14).rsi()\n",
    "rsi_ta"
   ]
  },
  {
   "cell_type": "markdown",
   "id": "3d56e31e",
   "metadata": {},
   "source": [
    "#### Plotting RSI"
   ]
  },
  {
   "cell_type": "code",
   "execution_count": 6,
   "id": "bf86ea48",
   "metadata": {},
   "outputs": [
    {
     "data": {
      "image/png": "[encoded data removed]",
      "text/plain": [
       "<Figure size 1400x800 with 1 Axes>"
      ]
     },
     "metadata": {},
     "output_type": "display_data"
    }
   ],
   "source": [
    "from utils.visualize import plot_RSI\n",
    "\n",
    "plot_RSI(data=data,\n",
    "         rsi_values=rsi_values)"
   ]
  },
  {
   "cell_type": "markdown",
   "id": "5dfaf744",
   "metadata": {},
   "source": [
    "### Backtest"
   ]
  },
  {
   "cell_type": "code",
   "execution_count": 110,
   "id": "02b67fb3",
   "metadata": {},
   "outputs": [
    {
     "data": {
      "text/plain": [
       "('long',\n",
       " Open            2.142200e+02\n",
       " High            2.187600e+02\n",
       " Low             2.137500e+02\n",
       " Close           2.152400e+02\n",
       " Adj Close       2.149581e+02\n",
       " Volume          5.438540e+07\n",
       " Dividends       0.000000e+00\n",
       " Stock Splits    0.000000e+00\n",
       " Name: 2025-03-19 00:00:00-04:00, dtype: float64,\n",
       " 'RSI VALUE : 25.846648495201137')"
      ]
     },
     "execution_count": 110,
     "metadata": {},
     "output_type": "execute_result"
    }
   ],
   "source": [
    "from classes.Account import Account\n",
    "from classes.Strategies import RSI_Strategy\n",
    "from classes.Trade import Trade, Exit, StopLossExit\n",
    "\n",
    "# $10000\n",
    "account_v0 = Account(balance=10000)\n",
    "signal = RSI_Strategy.signal(data)\n",
    "signal.position_type, data.loc[signal.index], f\"RSI VALUE : {signal.rsi_value}\""
   ]
  },
  {
   "cell_type": "code",
   "execution_count": 111,
   "id": "6c83dad8",
   "metadata": {},
   "outputs": [
    {
     "name": "stdout",
     "output_type": "stream",
     "text": [
      "RR : 2.0\n",
      "Reward : 21.39900054931641\n",
      "Risk : 10.699500274658204\n",
      "Position Size : 19\n",
      "Stop Loss : 203.29050521850587\n",
      "Exit : 235.38900604248047\n"
     ]
    }
   ],
   "source": [
    "from utils.helpers import position_sizing_calculator\n",
    "\n",
    "tomorrow_index = data.index.get_loc(signal.index) + 1\n",
    "\n",
    "position_result = position_sizing_calculator(stock_price=data[\"Open\"].iloc[tomorrow_index],\n",
    "                                           risk_percentage=0.02,\n",
    "                                           value=account_v0.balance,\n",
    "                                           sl=0.05,\n",
    "                                           tp=0.1,\n",
    "                                           position_type=signal.position_type)\n",
    "print(position_result)"
   ]
  },
  {
   "cell_type": "code",
   "execution_count": 112,
   "id": "2215e383",
   "metadata": {},
   "outputs": [],
   "source": [
    "stop_loss = StopLossExit(stop_price=position_result.stop_loss)\n",
    "exit = Exit(exit_price=position_result.exit)\n",
    "\n",
    "trade = Trade(symbol=SYMBOL,\n",
    "              entry_time=data.index[tomorrow_index],\n",
    "              entry_price=data[\"Open\"].iloc[tomorrow_index],\n",
    "              account=account_v0,\n",
    "              position_type=signal.position_type,\n",
    "              shares=position_result.position_size,\n",
    "              stop_loss=stop_loss,\n",
    "              exit=exit) if signal.position_type is not None else None"
   ]
  },
  {
   "cell_type": "code",
   "execution_count": 113,
   "id": "4ae3315d",
   "metadata": {},
   "outputs": [
    {
     "data": {
      "text/plain": [
       "[<classes.Trade.Trade at 0x1671114b950>]"
      ]
     },
     "execution_count": 113,
     "metadata": {},
     "output_type": "execute_result"
    }
   ],
   "source": [
    "account_v0.portfolio.active_trades"
   ]
  },
  {
   "cell_type": "code",
   "execution_count": 114,
   "id": "0788f4b4",
   "metadata": {},
   "outputs": [
    {
     "data": {
      "text/plain": [
       "'long'"
      ]
     },
     "execution_count": 114,
     "metadata": {},
     "output_type": "execute_result"
    }
   ],
   "source": [
    "signal.position_type"
   ]
  },
  {
   "cell_type": "code",
   "execution_count": 115,
   "id": "565e1ad9",
   "metadata": {},
   "outputs": [
    {
     "name": "stdout",
     "output_type": "stream",
     "text": [
      "INDEX :  14\n",
      "INDEX :  15\n",
      "INDEX :  16\n",
      "INDEX :  17\n",
      "INDEX :  18\n",
      "INDEX :  19\n",
      "INDEX :  20\n",
      "INDEX :  21\n",
      "INDEX :  22\n",
      "INDEX :  23\n",
      "INDEX :  24\n"
     ]
    }
   ],
   "source": [
    "RSI_Strategy.execute_strategy(data=data,\n",
    "                              account=account_v0,\n",
    "                              index=tomorrow_index,\n",
    "                              trade=trade,\n",
    "                              position_type=signal.position_type)"
   ]
  },
  {
   "cell_type": "code",
   "execution_count": 118,
   "id": "5667d7cc",
   "metadata": {},
   "outputs": [
    {
     "name": "stdout",
     "output_type": "stream",
     "text": [
      "Trade(75f0c479-052a-4578-aa9a-d45bf8a1e5d4): AAPL\n",
      "Position: long | Shares: 19\n",
      "Entry: 213.99 at 2025-03-20 00:00:00\n",
      "Exit: 2025-04-03 00:00:00\n",
      "PnL: -242.06 (-5.95%)\n"
     ]
    }
   ],
   "source": [
    "print(trade)"
   ]
  },
  {
   "cell_type": "code",
   "execution_count": 119,
   "id": "ae5816a0",
   "metadata": {},
   "outputs": [
    {
     "data": {
      "text/plain": [
       "10000"
      ]
     },
     "execution_count": 119,
     "metadata": {},
     "output_type": "execute_result"
    }
   ],
   "source": [
    "account_v0.balance"
   ]
  }
 ],
 "metadata": {
  "kernelspec": {
   "display_name": "venv",
   "language": "python",
   "name": "python3"
  },
  "language_info": {
   "codemirror_mode": {
    "name": "ipython",
    "version": 3
   },
   "file_extension": ".py",
   "mimetype": "text/x-python",
   "name": "python",
   "nbconvert_exporter": "python",
   "pygments_lexer": "ipython3",
   "version": "3.12.2"
  }
 },
 "nbformat": 4,
 "nbformat_minor": 5
}
